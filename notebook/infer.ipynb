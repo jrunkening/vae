{
 "cells": [
  {
   "cell_type": "code",
   "execution_count": 1,
   "metadata": {},
   "outputs": [],
   "source": [
    "from pathlib import Path\n",
    "\n",
    "import torch\n",
    "import matplotlib.pyplot as plt\n"
   ]
  },
  {
   "cell_type": "code",
   "execution_count": 2,
   "metadata": {},
   "outputs": [],
   "source": [
    "dtype = torch.float32\n",
    "device = torch.device(\"cuda\", index=0)\n",
    "\n",
    "root_params_flame = Path.home().joinpath(\"Params\", \"flame\")\n",
    "root_result = Path(\"..\").joinpath(\"result\")\n",
    "\n",
    "name_model = \"vae\"\n",
    "model = torch.load(root_result.joinpath(f\"{name_model}.pt\"), weights_only=False).to(dtype).to(device)\n"
   ]
  },
  {
   "cell_type": "code",
   "execution_count": 3,
   "metadata": {},
   "outputs": [],
   "source": [
    "size_batch = 5\n",
    "params = torch.randn(size_batch, 64, dtype=dtype, device=device)\n",
    "images_predicted = model.project(model.decoder(params).permute(0, 2, 3, 1)).detach().cpu().numpy()\n"
   ]
  },
  {
   "cell_type": "code",
   "execution_count": null,
   "metadata": {},
   "outputs": [],
   "source": [
    "size_image = 4\n",
    "fig = plt.figure(figsize=(size_image*size_batch, size_image))\n",
    "for i, image in enumerate(images_predicted):\n",
    "    ax = fig.add_subplot(1, size_batch, i+1)\n",
    "    ax.imshow(image)\n",
    "    ax.set_axis_off()\n",
    "fig.tight_layout(pad=0)\n",
    "fig.subplots_adjust(wspace=0, hspace=0)\n"
   ]
  }
 ],
 "metadata": {
  "kernelspec": {
   "display_name": "vae-W1dVO_3N-py3.11",
   "language": "python",
   "name": "python3"
  },
  "language_info": {
   "codemirror_mode": {
    "name": "ipython",
    "version": 3
   },
   "file_extension": ".py",
   "mimetype": "text/x-python",
   "name": "python",
   "nbconvert_exporter": "python",
   "pygments_lexer": "ipython3",
   "version": "3.11.9"
  }
 },
 "nbformat": 4,
 "nbformat_minor": 2
}
