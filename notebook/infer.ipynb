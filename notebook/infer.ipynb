{
 "cells": [
  {
   "cell_type": "code",
   "execution_count": 1,
   "metadata": {},
   "outputs": [],
   "source": [
    "from pathlib import Path\n",
    "\n",
    "import torch\n",
    "from torch.utils.data import DataLoader\n",
    "import matplotlib.pyplot as plt\n",
    "\n",
    "from vae.data import CelebAHQ\n"
   ]
  },
  {
   "cell_type": "code",
   "execution_count": 2,
   "metadata": {},
   "outputs": [],
   "source": [
    "dtype = torch.float32\n",
    "device = torch.device(\"cuda\", index=0)\n",
    "\n",
    "root_params_celebahq = Path.home().joinpath(\"Data\", \"CelebAMask-HQ\")\n",
    "root_result = Path(\"..\").joinpath(\"result\")\n",
    "\n",
    "name_model = \"vae\"\n",
    "model = torch.load(root_result.joinpath(f\"{name_model}.pt\"), weights_only=False).to(dtype).to(device)\n"
   ]
  },
  {
   "cell_type": "code",
   "execution_count": 3,
   "metadata": {},
   "outputs": [],
   "source": [
    "size_batch = 3\n",
    "dataset = CelebAHQ(root_params_celebahq)\n",
    "dataloader = DataLoader(dataset, size_batch, shuffle=True, num_workers=4, persistent_workers=True)\n",
    "images_gt = next(iter(dataloader)).to(dtype).to(device)\n"
   ]
  },
  {
   "cell_type": "code",
   "execution_count": 4,
   "metadata": {},
   "outputs": [],
   "source": [
    "images_predicted, means, log_stds = model(images_gt)\n"
   ]
  },
  {
   "cell_type": "code",
   "execution_count": null,
   "metadata": {},
   "outputs": [],
   "source": [
    "size_image = 4\n",
    "fig = plt.figure(figsize=(size_image*size_batch, size_image*2))\n",
    "for i, (image_gt, image) in enumerate(zip(images_gt.detach().cpu(), images_predicted.detach().cpu())):\n",
    "    ax = fig.add_subplot(1, size_batch, i+1)\n",
    "    ax.imshow(torch.cat([image_gt, image], dim=0).numpy())\n",
    "    ax.set_axis_off()\n",
    "fig.tight_layout(pad=0)\n",
    "fig.subplots_adjust(wspace=0, hspace=0)\n"
   ]
  }
 ],
 "metadata": {
  "kernelspec": {
   "display_name": "vae-W1dVO_3N-py3.11",
   "language": "python",
   "name": "python3"
  },
  "language_info": {
   "codemirror_mode": {
    "name": "ipython",
    "version": 3
   },
   "file_extension": ".py",
   "mimetype": "text/x-python",
   "name": "python",
   "nbconvert_exporter": "python",
   "pygments_lexer": "ipython3",
   "version": "3.11.9"
  }
 },
 "nbformat": 4,
 "nbformat_minor": 2
}
